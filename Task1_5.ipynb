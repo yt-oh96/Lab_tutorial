{
  "nbformat": 4,
  "nbformat_minor": 0,
  "metadata": {
    "colab": {
      "name": "Task1_5.ipynb",
      "provenance": [],
      "private_outputs": true,
      "authorship_tag": "ABX9TyP0feoQcGJGOYqn/g+aUdyD",
      "include_colab_link": true
    },
    "kernelspec": {
      "name": "python3",
      "display_name": "Python 3"
    }
  },
  "cells": [
    {
      "cell_type": "markdown",
      "metadata": {
        "id": "view-in-github",
        "colab_type": "text"
      },
      "source": [
        "<a href=\"https://colab.research.google.com/github/yt-oh96/Lab_tutorial/blob/master/Task1_5.ipynb\" target=\"_parent\"><img src=\"https://colab.research.google.com/assets/colab-badge.svg\" alt=\"Open In Colab\"/></a>"
      ]
    },
    {
      "cell_type": "code",
      "metadata": {
        "id": "XHTa3BOuzDG6",
        "colab_type": "code",
        "colab": {}
      },
      "source": [
        "import os\n",
        "import cv2\n",
        "import numpy as np\n",
        "import matplotlib.pyplot as plt\n",
        "from scipy import optimize"
      ],
      "execution_count": null,
      "outputs": []
    },
    {
      "cell_type": "code",
      "metadata": {
        "id": "Tn4eTyAsbZSB",
        "colab_type": "code",
        "colab": {}
      },
      "source": [
        ""
      ],
      "execution_count": null,
      "outputs": []
    },
    {
      "cell_type": "code",
      "metadata": {
        "id": "I--5yh8tbxK0",
        "colab_type": "code",
        "colab": {}
      },
      "source": [
        ""
      ],
      "execution_count": null,
      "outputs": []
    },
    {
      "cell_type": "code",
      "metadata": {
        "id": "qWd8dMw6zEk_",
        "colab_type": "code",
        "colab": {}
      },
      "source": [
        "from google.colab import files\n",
        "uploaded = files.upload()"
      ],
      "execution_count": null,
      "outputs": []
    },
    {
      "cell_type": "code",
      "metadata": {
        "id": "55ay0BNnCgzj",
        "colab_type": "code",
        "colab": {}
      },
      "source": [
        "ori_image = cv2.imread('image1.tif',1)\n",
        "\n",
        "plt.subplot(121)\n",
        "plt.imshow(ori_image, cmap='gray')\n",
        "plt.title('ori_image')\n",
        "\n",
        "plt.show()\n"
      ],
      "execution_count": null,
      "outputs": []
    },
    {
      "cell_type": "code",
      "metadata": {
        "id": "KZ10GfjVCj3C",
        "colab_type": "code",
        "colab": {}
      },
      "source": [
        "#3\n",
        "M = np.float32([[1,0,14],[0,1,9]])\n",
        "translate_image = cv2.warpAffine(ori_image, M, ori_image.shape[:2])\n",
        "\n",
        "plt.subplot(121)\n",
        "plt.imshow(ori_image, cmap='gray')\n",
        "plt.title('ori_image' )\n",
        "\n",
        "plt.subplot(122)\n",
        "plt.imshow(translate_image, cmap='gray')\n",
        "plt.title('dis_image')\n",
        "\n",
        "plt.show()"
      ],
      "execution_count": null,
      "outputs": []
    },
    {
      "cell_type": "code",
      "metadata": {
        "id": "xfM5WXVsClrp",
        "colab_type": "code",
        "colab": {}
      },
      "source": [
        "def SSD(ori, dis):\n",
        "  err = np.sum((ori - dis) ** 2)\n",
        "  err /= (ori.shape[0] * ori.shape[1])\n",
        " \n",
        "  return err"
      ],
      "execution_count": null,
      "outputs": []
    },
    {
      "cell_type": "code",
      "metadata": {
        "id": "oQUDOKi_MczK",
        "colab_type": "code",
        "colab": {}
      },
      "source": [
        "def entropy(image):\n",
        "  image = np.asarray(image)\n",
        "\n",
        "  p_image = image / image.sum()\n",
        "\n",
        "  p_image = p_image[np.nonzero(p_image)]\n",
        "  return -np.sum(p_image*np.log2(p_image))\n",
        "\n",
        "def MI(image_A, image_B):\n",
        "  image_A = np.asarray(image_A.ravel())\n",
        "  image_B = np.asarray(image_B.ravel())\n",
        "  print(image_A.shape)\n",
        "\n",
        "  histogram_A = np.histogram(image_A, 30)[0]\n",
        "  histogram_B = np.histogram(image_B, 30)[0]\n",
        "  histogram_AB = np.histogram2d(image_A, image_B, 30)[0]\n",
        "\n",
        "  H_a = entropy(image_A)\n",
        "  H_b = entropy(image_B)\n",
        "  H_ab = entropy(histogram_AB)\n",
        "  #H_ab = entropy(np.concatenate([image_A, image_B]))\n",
        "  print(H_a, ' ',H_b,' ', H_ab)\n",
        "  MI_ab = H_a + H_b - H_ab\n",
        "\n",
        "  return MI_ab"
      ],
      "execution_count": null,
      "outputs": []
    },
    {
      "cell_type": "code",
      "metadata": {
        "id": "_m_yFrciCu_w",
        "colab_type": "code",
        "colab": {}
      },
      "source": [
        "#def fmin_optim(ori, dis, mode='', distortion='', x_val=None, y_val=None, lotataion_val=None ):\n",
        "def fmin_optim_ssd(val):\n",
        "  ori_image = cv2.imread('image1.tif',1)\n",
        "  dis_image = cv2.imread('image2.tif',1)\n",
        "\n",
        "  x,y = ori_image.shape[:2]\n",
        "\n",
        "  M = np.float32([[1,0, val[0]],[0,1,val[1]]])\n",
        "  print('x : ',val[0],'y',val[1])\n",
        "  dst = cv2.warpAffine(ori_image, M, (x,y))\n",
        "\n",
        "  err = SSD(dst, dis_image)\n",
        "  print(err)\n",
        "  global error\n",
        "  error.append(err)\n",
        "  return err\n",
        "\n",
        "def fmin_optim_mi(val):\n",
        "  ori_image = cv2.imread('image1.tif',1)\n",
        "  dis_image = cv2.imread('image2.tif',1)\n",
        "\n",
        "  x,y = ori_image.shape[:2]\n",
        "\n",
        "  M = np.float32([[1,0, val[0]],[0,1,val[1]]])\n",
        "  print('x : ',val[0],'y',val[1])\n",
        "  dst = cv2.warpAffine(ori_image, M, (x,y))\n",
        "\n",
        "  err = -MI(dst, dis_image)\n",
        "  print(err)\n",
        "  \n",
        "  global error_mi\n",
        "  error_mi.append(err)\n",
        "  return err"
      ],
      "execution_count": null,
      "outputs": []
    },
    {
      "cell_type": "code",
      "metadata": {
        "id": "mdcZcgPJ-zvd",
        "colab_type": "code",
        "colab": {}
      },
      "source": [
        "def save_step(k):\n",
        "  global steps\n",
        "  steps.append(k)"
      ],
      "execution_count": null,
      "outputs": []
    },
    {
      "cell_type": "code",
      "metadata": {
        "id": "DhYAbQi0OWR4",
        "colab_type": "code",
        "colab": {}
      },
      "source": [
        "steps=[]\n",
        "error=[]\n",
        "fmin_ssd = scipy.optimize.fmin(fmin_optim_ssd, x0=[-80,90], xtol=0.01 ,ftol = 0.1,full_output=True,callback=save_step, retall=True)"
      ],
      "execution_count": null,
      "outputs": []
    },
    {
      "cell_type": "code",
      "metadata": {
        "id": "_pVPVnzrijR3",
        "colab_type": "code",
        "colab": {}
      },
      "source": [
        "st = np.array(steps)\n",
        "print(st.shape)\n",
        "print(error)\n",
        "x = []\n",
        "y = []\n",
        "for i in range(st.shape[0]):\n",
        "  x.append(st[i][0])\n",
        "  y.append(st[i][1])\n",
        "print(x, y)"
      ],
      "execution_count": null,
      "outputs": []
    },
    {
      "cell_type": "code",
      "metadata": {
        "id": "Tx4ucLCxinZ5",
        "colab_type": "code",
        "colab": {}
      },
      "source": [
        "print(fmin_ssd[0])\n",
        "plt.title('ssd_error, starting potin : -80,90')\n",
        "plt.plot(error)\n",
        "plt.show()"
      ],
      "execution_count": null,
      "outputs": []
    },
    {
      "cell_type": "code",
      "metadata": {
        "id": "2GgDZKhlB2Qr",
        "colab_type": "code",
        "colab": {}
      },
      "source": [
        "def save_step_mi(k):\n",
        "  global steps_mi\n",
        "  steps_mi.append(k)\n",
        "  \n",
        "  \n",
        "steps_mi=[]\n",
        "error_mi=[]\n",
        "fmin = scipy.optimize.fmin(fmin_optim_mi, x0=[30,15], xtol=0.01 ,ftol = 0.1,full_output=True,callback=save_step_mi, retall=True)"
      ],
      "execution_count": null,
      "outputs": []
    },
    {
      "cell_type": "code",
      "metadata": {
        "id": "gvjxo5pEMwZe",
        "colab_type": "code",
        "colab": {}
      },
      "source": [
        "st_mi = np.array(steps_mi)\n",
        "x_mi = []\n",
        "y_mi = []\n",
        "for i in range(st_mi.shape[0]):\n",
        "  x_mi.append(st_mi[i][0])\n",
        "  y_mi.append(st_mi[i][1])\n",
        "print(x_mi, y_mi)\n",
        "\n",
        "print(fmin[0])"
      ],
      "execution_count": null,
      "outputs": []
    },
    {
      "cell_type": "code",
      "metadata": {
        "id": "MlbJIOGoM_3B",
        "colab_type": "code",
        "colab": {}
      },
      "source": [
        "print(fmin[0])\n",
        "plt.title('mi_error, starting potin : 30,15')\n",
        "plt.plot(error)\n",
        "plt.show()"
      ],
      "execution_count": null,
      "outputs": []
    },
    {
      "cell_type": "code",
      "metadata": {
        "id": "qyKR3fkzNFF0",
        "colab_type": "code",
        "colab": {}
      },
      "source": [
        "M = np.float32([[1,0,-14],[0,1,-9]])\n",
        "dst_image = cv2.warpAffine(translate_image, M, ori_image.shape[:2])\n",
        "\n",
        "plt.subplot(121)\n",
        "plt.imshow(ori_image, cmap='gray')\n",
        "plt.title('ori_image' )\n",
        "\n",
        "plt.subplot(122)\n",
        "plt.imshow(dst_image, cmap='gray')\n",
        "plt.title('dst_image')\n",
        "\n",
        "plt.show()"
      ],
      "execution_count": null,
      "outputs": []
    },
    {
      "cell_type": "code",
      "metadata": {
        "id": "aybFsVg9iz4O",
        "colab_type": "code",
        "colab": {}
      },
      "source": [
        ""
      ],
      "execution_count": null,
      "outputs": []
    }
  ]
}