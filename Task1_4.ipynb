{
  "nbformat": 4,
  "nbformat_minor": 0,
  "metadata": {
    "colab": {
      "name": "Task1_4.ipynb",
      "provenance": [],
      "private_outputs": true,
      "authorship_tag": "ABX9TyPa+v+3E21pyZhCeNc+ePhq",
      "include_colab_link": true
    },
    "kernelspec": {
      "name": "python3",
      "display_name": "Python 3"
    }
  },
  "cells": [
    {
      "cell_type": "markdown",
      "metadata": {
        "id": "view-in-github",
        "colab_type": "text"
      },
      "source": [
        "<a href=\"https://colab.research.google.com/github/yt-oh96/Lab_tutorial/blob/master/Task1_4.ipynb\" target=\"_parent\"><img src=\"https://colab.research.google.com/assets/colab-badge.svg\" alt=\"Open In Colab\"/></a>"
      ]
    },
    {
      "cell_type": "code",
      "metadata": {
        "id": "UZheSW3dcZwY",
        "colab_type": "code",
        "colab": {}
      },
      "source": [
        "import os\n",
        "import cv2\n",
        "import numpy as np\n",
        "import matplotlib.pyplot as plt"
      ],
      "execution_count": 0,
      "outputs": []
    },
    {
      "cell_type": "code",
      "metadata": {
        "id": "lOK08mwmcfxw",
        "colab_type": "code",
        "colab": {}
      },
      "source": [
        "from google.colab import files\n",
        "uploaded = files.upload()"
      ],
      "execution_count": 0,
      "outputs": []
    },
    {
      "cell_type": "code",
      "metadata": {
        "id": "blpVCj3mcguP",
        "colab_type": "code",
        "colab": {}
      },
      "source": [
        "ori_image = cv2.imread('image1.tif',1)\n",
        "\n",
        "plt.subplot(121)\n",
        "plt.imshow(ori_image, cmap='gray')\n",
        "plt.title('ori_image')\n",
        "\n",
        "plt.show()\n"
      ],
      "execution_count": 0,
      "outputs": []
    },
    {
      "cell_type": "code",
      "metadata": {
        "id": "KKIywRtlckUW",
        "colab_type": "code",
        "colab": {}
      },
      "source": [
        "resize_image_INTER_AREA = cv2.resize(ori_image, dsize=(1024,1024),interpolation=cv2.INTER_AREA)\n",
        "resize_image_INTER_LINEAR = cv2.resize(ori_image, dsize=(1024,1024),interpolation=cv2.INTER_LINEAR)\n",
        "resize_image_INTER_LINEAR_EXACT = cv2.resize(ori_image, dsize=(1024,1024),interpolation=cv2.INTER_LINEAR_EXACT)\n",
        "resize_image_INTER_CUBIC = cv2.resize(ori_image, dsize=(1024,1024),interpolation=cv2.INTER_CUBIC)\n",
        "resize_image_INTER_NEAREST = cv2.resize(ori_image, dsize=(1024,1024),interpolation=cv2.INTER_NEAREST)\n",
        "resize_image_INTER_LANCZOS4 = cv2.resize(ori_image, dsize=(1024,1024),interpolation=cv2.INTER_LANCZOS4)\n",
        "\n",
        "INTER_AREA_LANC = resize_image_INTER_AREA - resize_image_INTER_LANCZOS4\n",
        "INTER_CUBIC_LINEAR = resize_image_INTER_CUBIC - resize_image_INTER_LINEAR\n",
        "INTER_LINEAR_LINEAR_EXACT = resize_image_INTER_LINEAR - resize_image_INTER_LINEAR_EXACT"
      ],
      "execution_count": 0,
      "outputs": []
    },
    {
      "cell_type": "code",
      "metadata": {
        "id": "yhOoF_hIo13H",
        "colab_type": "code",
        "colab": {}
      },
      "source": [
        "\n",
        "plt.imshow(INTER_AREA_LANC, cmap='gray')\n",
        "plt.title('INTER_AREA_LANC')\n",
        "plt.show()\n",
        "\n",
        "plt.imshow(INTER_CUBIC_LINEAR, cmap='gray')\n",
        "plt.title('INTER_CUBIC_LINEAR')\n",
        "plt.show()\n",
        "\n",
        "plt.imshow(INTER_LINEAR_LINEAR_EXACT, cmap='gray')\n",
        "plt.title('INTER_LINEAR_LINEAR_EXACT')\n",
        "plt.show()"
      ],
      "execution_count": 0,
      "outputs": []
    },
    {
      "cell_type": "code",
      "metadata": {
        "id": "NDqueROtf5rK",
        "colab_type": "code",
        "colab": {}
      },
      "source": [
        "plt.imshow(resize_image_INTER_AREA, cmap='gray')\n",
        "plt.title('resize_image_INTER_AREA')\n",
        "plt.show()"
      ],
      "execution_count": 0,
      "outputs": []
    },
    {
      "cell_type": "code",
      "metadata": {
        "id": "MISAhM4dfWdC",
        "colab_type": "code",
        "colab": {}
      },
      "source": [
        "\n",
        "plt.imshow(resize_image_INTER_LINEAR, cmap='gray')\n",
        "plt.title('resize_image_INTER_LINEAR')\n",
        "plt.show()"
      ],
      "execution_count": 0,
      "outputs": []
    },
    {
      "cell_type": "code",
      "metadata": {
        "id": "jrPLlnC7fWfY",
        "colab_type": "code",
        "colab": {}
      },
      "source": [
        "plt.imshow(resize_image_INTER_LINEAR_EXACT, cmap='gray')\n",
        "plt.title('resize_image_INTER_LINEAR_EXACT')\n",
        "plt.show()"
      ],
      "execution_count": 0,
      "outputs": []
    },
    {
      "cell_type": "code",
      "metadata": {
        "id": "Xc5E55U7fWhz",
        "colab_type": "code",
        "colab": {}
      },
      "source": [
        "plt.imshow(resize_image_INTER_CUBIC, cmap='gray')\n",
        "plt.title('resize_image_INTER_CUBIC')\n",
        "plt.show()"
      ],
      "execution_count": 0,
      "outputs": []
    },
    {
      "cell_type": "code",
      "metadata": {
        "id": "4HbCU91ffWkM",
        "colab_type": "code",
        "colab": {}
      },
      "source": [
        "plt.imshow(resize_image_INTER_NEAREST, cmap='gray')\n",
        "plt.title('resize_image_INTER_NEAREST')\n",
        "plt.show()"
      ],
      "execution_count": 0,
      "outputs": []
    },
    {
      "cell_type": "code",
      "metadata": {
        "id": "L-ii1RPOdgdu",
        "colab_type": "code",
        "colab": {}
      },
      "source": [
        "plt.imshow(resize_image_INTER_LANCZOS4, cmap='gray')\n",
        "plt.title('resize_image_INTER_LANCZOS4')\n",
        "plt.show()"
      ],
      "execution_count": 0,
      "outputs": []
    },
    {
      "cell_type": "code",
      "metadata": {
        "id": "6CWseAZVf7hK",
        "colab_type": "code",
        "colab": {}
      },
      "source": [
        ""
      ],
      "execution_count": 0,
      "outputs": []
    }
  ]
}