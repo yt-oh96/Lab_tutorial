{
  "nbformat": 4,
  "nbformat_minor": 0,
  "metadata": {
    "colab": {
      "name": "Task1_1.ipynb",
      "provenance": [],
      "private_outputs": true,
      "include_colab_link": true
    },
    "kernelspec": {
      "name": "python3",
      "display_name": "Python 3"
    }
  },
  "cells": [
    {
      "cell_type": "markdown",
      "metadata": {
        "id": "view-in-github",
        "colab_type": "text"
      },
      "source": [
        "<a href=\"https://colab.research.google.com/github/yt-oh96/Lab_tutorial/blob/master/Task1_1.ipynb\" target=\"_parent\"><img src=\"https://colab.research.google.com/assets/colab-badge.svg\" alt=\"Open In Colab\"/></a>"
      ]
    },
    {
      "cell_type": "code",
      "metadata": {
        "id": "-Zg3ShcB-RJZ",
        "colab_type": "code",
        "colab": {}
      },
      "source": [
        "import os\n",
        "import cv2\n",
        "import numpy as np\n",
        "#from PIL import Image\n",
        "import matplotlib.pyplot as plt"
      ],
      "execution_count": 0,
      "outputs": []
    },
    {
      "cell_type": "code",
      "metadata": {
        "id": "b2De1NHx-WI-",
        "colab_type": "code",
        "colab": {}
      },
      "source": [
        "from google.colab import files\n",
        "uploaded = files.upload()"
      ],
      "execution_count": 0,
      "outputs": []
    },
    {
      "cell_type": "code",
      "metadata": {
        "id": "Y29kBKz--oAa",
        "colab_type": "code",
        "colab": {}
      },
      "source": [
        "# ori_image = Image.open('image1.tif')\n",
        "# dis_image = Image.open('image2.tif')\n",
        "\n",
        "ori_image = cv2.imread('image1.tif',1)\n",
        "dis_image = cv2.imread('image2.tif',1)\n",
        "\n",
        "# M = np.float32([[1,0,13],[0,1,255]])\n",
        "# dst = cv2.warpAffine(ori_image, M, ori_image.shape[:2])\n",
        "\n",
        "# print(SSD(dst, dis_image))\n",
        "\n",
        "plt.subplot(121)\n",
        "plt.imshow(ori_image, cmap='gray')\n",
        "plt.title('ori_image')\n",
        "\n",
        "plt.subplot(122)\n",
        "plt.imshow(dis_image, cmap='gray')\n",
        "plt.title('dis_image')\n",
        "\n",
        "plt.show()\n"
      ],
      "execution_count": 0,
      "outputs": []
    },
    {
      "cell_type": "code",
      "metadata": {
        "id": "gZtJxhXO_t0B",
        "colab_type": "code",
        "colab": {}
      },
      "source": [
        "def SSD(ori, dis):\n",
        "  err = np.sum((ori - dis) ** 2)\n",
        "  err /= (ori.shape[0] * ori.shape[1])\n",
        " \n",
        "  return err\n",
        "\n",
        "print(SSD(ori_image, dis_image))\n",
        "\n",
        "#for i in range()\n"
      ],
      "execution_count": 0,
      "outputs": []
    },
    {
      "cell_type": "code",
      "metadata": {
        "id": "PnVfLbxbeUs2",
        "colab_type": "code",
        "colab": {}
      },
      "source": [
        "def optim(ori, dis, mode='', distortion=''):\n",
        "  x,y = ori.shape[:2]\n",
        "  \n",
        "  error = []\n",
        "  if distortion == 'translation':\n",
        "    i=0\n",
        "    for dx in range(-x,x):\n",
        "      i+=1\n",
        "      error_y=[]\n",
        "      j=0\n",
        "      for dy in range(-y,y):\n",
        "        \n",
        "        j+=1\n",
        "        M = np.float32([[1,0,dx],[0,1,dy]])\n",
        "        dst = cv2.warpAffine(ori, M, (x,y))\n",
        "\n",
        "        if mode == 'ssd':\n",
        "          err = SSD(dst, dis)\n",
        "        elif mode == 'mi':\n",
        "          err = -MI(dst,dis)\n",
        "        \n",
        "        error_y.append(err)\n",
        "        \n",
        "        print(str(i)+','+str(j)+'/512'+', error : ',err)\n",
        "      error.append(error_y)\n",
        "\n",
        "  elif distortion == 'rotation':\n",
        "    w,h = ori.shape[:2]\n",
        "    for i in range(360):\n",
        "      \n",
        "      rotation_mat = cv2.getRotationMatrix2D((w/2,h/2),i,1)\n",
        "      rotation_image = cv2.warpAffine(ori, rotation_mat, (w,h))\n",
        "       \n",
        "      if mode == 'ssd':\n",
        "        err = SSD(rotation_image, dis)\n",
        "      elif mode == 'mi':\n",
        "        err = -MI(rotation_image,dis)\n",
        "\n",
        "      print(str(i)+','+'/360'+', error : ',err)\n",
        "      error.append(err)  \n",
        "  return error\n"
      ],
      "execution_count": 0,
      "outputs": []
    },
    {
      "cell_type": "code",
      "metadata": {
        "id": "_I8JWKYBjxDp",
        "colab_type": "code",
        "colab": {}
      },
      "source": [
        "final = optim(ori_image, dis_image, mode='ssd', distortion='translation')"
      ],
      "execution_count": 0,
      "outputs": []
    },
    {
      "cell_type": "code",
      "metadata": {
        "id": "tYdJoa7nnOMY",
        "colab_type": "code",
        "colab": {}
      },
      "source": [
        "Z = final\n",
        "Z_min = np.min(Z, axis=0)\n",
        "Z_min_idx = np.argmin(Z_min)\n",
        "\n",
        "Z_min_y = np.min(Z, axis=1)\n",
        "Z_min_idx_y = np.argmin(Z_min_y)\n",
        "\n",
        "# print(Z_min_idx)\n",
        "# print(Z_min)\n",
        "\n",
        "# print(Z_min_idx_y)\n",
        "# print(Z_min_y)\n",
        "Z_min_idx_y -= 256\n",
        "Z_min_idx -= 256\n",
        "\n",
        "print('min_idx = ',Z_min_idx_y,',',Z_min_idx)\n",
        "\n",
        "from mpl_toolkits.mplot3d import Axes3D\n",
        "x = np.linspace(-256,255,512)\n",
        "y = np.linspace(-256,255,512)\n",
        "Z_np = np.array(Z)\n",
        "xx, yy = np.meshgrid(x,y)\n",
        "\n",
        "plt.figure(figsize=(5,5))\n",
        "ax = plt.subplot(1,1,1,projection='3d')\n",
        "ax.plot_surface(xx,yy,Z_np)\n",
        "#ax.view_init(0,0)\n",
        "plt.show()"
      ],
      "execution_count": 0,
      "outputs": []
    },
    {
      "cell_type": "code",
      "metadata": {
        "id": "vkUwLeLWKr7g",
        "colab_type": "code",
        "colab": {}
      },
      "source": [
        "M = np.float32([[1,0,14],[0,1,9]])\n",
        "dst_image = cv2.warpAffine(ori_image, M, ori_image.shape[:2])\n",
        "\n",
        "plt.subplot(121)\n",
        "plt.imshow(dst_image, cmap='gray')\n",
        "plt.title('ori_image')\n",
        "\n",
        "plt.subplot(122)\n",
        "plt.imshow(dis_image, cmap='gray')\n",
        "plt.title('dis_image')\n",
        "\n",
        "plt.show()"
      ],
      "execution_count": 0,
      "outputs": []
    },
    {
      "cell_type": "code",
      "metadata": {
        "id": "HpPWDbdQOlZt",
        "colab_type": "code",
        "colab": {}
      },
      "source": [
        ""
      ],
      "execution_count": 0,
      "outputs": []
    },
    {
      "cell_type": "markdown",
      "metadata": {
        "id": "3VugAUqB_KF6",
        "colab_type": "text"
      },
      "source": [
        ""
      ]
    }
  ]
}