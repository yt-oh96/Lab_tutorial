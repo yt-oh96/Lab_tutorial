{
  "nbformat": 4,
  "nbformat_minor": 0,
  "metadata": {
    "colab": {
      "name": "Task1_3.ipynb",
      "provenance": [],
      "private_outputs": true,
      "authorship_tag": "ABX9TyPfabMQjTwQQa05ZwL3zz2m",
      "include_colab_link": true
    },
    "kernelspec": {
      "name": "python3",
      "display_name": "Python 3"
    }
  },
  "cells": [
    {
      "cell_type": "markdown",
      "metadata": {
        "id": "view-in-github",
        "colab_type": "text"
      },
      "source": [
        "<a href=\"https://colab.research.google.com/github/yt-oh96/Lab_tutorial/blob/master/Task1_3.ipynb\" target=\"_parent\"><img src=\"https://colab.research.google.com/assets/colab-badge.svg\" alt=\"Open In Colab\"/></a>"
      ]
    },
    {
      "cell_type": "code",
      "metadata": {
        "id": "02ZwLGxzK-3I",
        "colab_type": "code",
        "colab": {}
      },
      "source": [
        "import os\n",
        "import cv2\n",
        "import numpy as np\n",
        "import matplotlib.pyplot as plt"
      ],
      "execution_count": 0,
      "outputs": []
    },
    {
      "cell_type": "code",
      "metadata": {
        "id": "AztOy-LBLAWS",
        "colab_type": "code",
        "colab": {}
      },
      "source": [
        "from google.colab import files\n",
        "uploaded = files.upload()"
      ],
      "execution_count": 0,
      "outputs": []
    },
    {
      "cell_type": "code",
      "metadata": {
        "id": "ncyOaDGELcDg",
        "colab_type": "code",
        "colab": {}
      },
      "source": [
        "ori_image = cv2.imread('image1.tif',1)\n",
        "\n",
        "plt.subplot(121)\n",
        "plt.imshow(ori_image, cmap='gray')\n",
        "plt.title('ori_image')\n",
        "\n",
        "plt.show()\n"
      ],
      "execution_count": 0,
      "outputs": []
    },
    {
      "cell_type": "code",
      "metadata": {
        "id": "1CMYS4ySK6Lm",
        "colab_type": "code",
        "colab": {}
      },
      "source": [
        "#3\n",
        "M = np.float32([[1,0,28],[0,1,60]])\n",
        "translate_image = cv2.warpAffine(ori_image, M, ori_image.shape[:2])\n",
        "\n",
        "plt.subplot(121)\n",
        "plt.imshow(ori_image, cmap='gray')\n",
        "plt.title('ori_image' )\n",
        "\n",
        "plt.subplot(122)\n",
        "plt.imshow(translate_image, cmap='gray')\n",
        "plt.title('dis_image')\n",
        "\n",
        "plt.show()"
      ],
      "execution_count": 0,
      "outputs": []
    },
    {
      "cell_type": "code",
      "metadata": {
        "id": "0wmzjzddLlqB",
        "colab_type": "code",
        "colab": {}
      },
      "source": [
        "def SSD(ori, dis):\n",
        "  err = np.sum((ori - dis) ** 2)\n",
        "  err /= (ori.shape[0] * ori.shape[1])\n",
        " \n",
        "  return err\n",
        "\n",
        "print(SSD(ori_image, dis_image))\n",
        "\n",
        "#for i in range()\n"
      ],
      "execution_count": 0,
      "outputs": []
    },
    {
      "cell_type": "code",
      "metadata": {
        "id": "4VmsFa7qLxu4",
        "colab_type": "code",
        "colab": {}
      },
      "source": [
        "def optim(ori, dis, mode='', distortion=''):\n",
        "  x,y = ori.shape[:2]\n",
        "  \n",
        "  error = []\n",
        "  if distortion == 'translation':\n",
        "    i=0\n",
        "    for dx in range(-x,x):\n",
        "      i+=1\n",
        "      error_y=[]\n",
        "      j=0\n",
        "      for dy in range(-y,y):\n",
        "        \n",
        "        j+=1\n",
        "        M = np.float32([[1,0,dx],[0,1,dy]])\n",
        "        dst = cv2.warpAffine(ori, M, (x,y))\n",
        "\n",
        "        if mode == 'ssd':\n",
        "          err = SSD(dst, dis)\n",
        "        elif mode == 'mi':\n",
        "          err = -MI(dst,dis)\n",
        "        \n",
        "        error_y.append(err)\n",
        "        \n",
        "        print(str(i)+','+str(j)+'/512'+', error : ',err)\n",
        "      error.append(error_y)\n",
        "\n",
        "  elif distortion == 'rotation':\n",
        "    w,h = ori.shape[:2]\n",
        "    for i in range(360):\n",
        "      \n",
        "      rotation_mat = cv2.getRotationMatrix2D((w/2,h/2),i,1)\n",
        "      rotation_image = cv2.warpAffine(ori, rotation_mat, (w,h))\n",
        "       \n",
        "      if mode == 'ssd':\n",
        "        err = SSD(rotation_image, dis)\n",
        "      elif mode == 'mi':\n",
        "        err = -MI(rotation_image,dis)\n",
        "\n",
        "      print(str(i)+','+'/360'+', error : ',err)\n",
        "      error.append(err)  \n",
        "  return error\n"
      ],
      "execution_count": 0,
      "outputs": []
    },
    {
      "cell_type": "code",
      "metadata": {
        "id": "FNcPCwdqL6Un",
        "colab_type": "code",
        "colab": {}
      },
      "source": [
        "final = optim(translate_image, ori_image, mode='ssd', distortion='translation')"
      ],
      "execution_count": 0,
      "outputs": []
    },
    {
      "cell_type": "code",
      "metadata": {
        "id": "VeQTztSXL9lu",
        "colab_type": "code",
        "colab": {}
      },
      "source": [
        "Z = final\n",
        "Z_min = np.min(Z, axis=0)\n",
        "Z_min_idx = np.argmin(Z_min)\n",
        "\n",
        "Z_min_y = np.min(Z, axis=1)\n",
        "Z_min_idx_y = np.argmin(Z_min_y)\n",
        "\n",
        "Z_min_idx_y -= 256\n",
        "Z_min_idx -= 256\n",
        "\n",
        "print('min_idx = ',Z_min_idx_y,',',Z_min_idx)\n",
        "\n",
        "from mpl_toolkits.mplot3d import Axes3D\n",
        "x = np.linspace(-256,255,512)\n",
        "y = np.linspace(-256,255,512)\n",
        "Z_np = np.array(Z)\n",
        "xx, yy = np.meshgrid(x,y)\n",
        "\n",
        "plt.figure(figsize=(5,5))\n",
        "ax = plt.subplot(1,1,1,projection='3d')\n",
        "ax.plot_surface(xx,yy,Z_np)\n",
        "#ax.view_init(0,0)\n",
        "plt.show()"
      ],
      "execution_count": 0,
      "outputs": []
    },
    {
      "cell_type": "code",
      "metadata": {
        "id": "_VPeosCGNFN1",
        "colab_type": "code",
        "colab": {}
      },
      "source": [
        "M = np.float32([[1,0,-28],[0,1,-60]])\n",
        "dst_image = cv2.warpAffine(translate_image, M, translate_image.shape[:2])\n",
        "\n",
        "plt.subplot(121)\n",
        "plt.imshow(ori_image, cmap='gray')\n",
        "plt.title('ori_image')\n",
        "\n",
        "plt.subplot(122)\n",
        "plt.imshow(dst_image, cmap='gray')\n",
        "plt.title('dis_image')\n",
        "\n",
        "plt.show()"
      ],
      "execution_count": 0,
      "outputs": []
    },
    {
      "cell_type": "code",
      "metadata": {
        "id": "XoiZiySdPB8o",
        "colab_type": "code",
        "colab": {}
      },
      "source": [
        "fig, axes = plt.subplots(1,2)\n",
        "axes[0].hist(ori_image.ravel(), bins=30)\n",
        "axes[1].hist(translate_image.ravel(), bins=30)"
      ],
      "execution_count": 0,
      "outputs": []
    },
    {
      "cell_type": "code",
      "metadata": {
        "id": "uKUFPV2XPI13",
        "colab_type": "code",
        "colab": {}
      },
      "source": [
        "def entropy(image):\n",
        "  image = np.asarray(image)\n",
        "\n",
        "  p_image = image / image.sum()\n",
        "\n",
        "  p_image = p_image[np.nonzero(p_image)]\n",
        "  return -np.sum(p_image*np.log2(p_image))\n",
        "\n",
        "def MI(image_A, image_B):\n",
        "  image_A = np.asarray(image_A.ravel())\n",
        "  image_B = np.asarray(image_B.ravel())\n",
        "  print(image_A.shape)\n",
        "\n",
        "  histogram_A = np.histogram(image_A, 30)[0]\n",
        "  histogram_B = np.histogram(image_B, 30)[0]\n",
        "  histogram_AB = np.histogram2d(image_A, image_B, 30)[0]\n",
        "\n",
        "  H_a = entropy(image_A)\n",
        "  H_b = entropy(image_B)\n",
        "  H_ab = entropy(histogram_AB)\n",
        "  #H_ab = entropy(np.concatenate([image_A, image_B]))\n",
        "  print(H_a, ' ',H_b,' ', H_ab)\n",
        "  MI_ab = H_a + H_b - H_ab\n",
        "\n",
        "  return MI_ab\n",
        "\n",
        "mi = MI(ori_image, dis_image)\n",
        "print(mi)"
      ],
      "execution_count": 0,
      "outputs": []
    },
    {
      "cell_type": "code",
      "metadata": {
        "id": "i0SWBNYVPI9J",
        "colab_type": "code",
        "colab": {}
      },
      "source": [
        "final_mi = optim(translate_image, ori_image, mode='mi', distortion='translation')"
      ],
      "execution_count": 0,
      "outputs": []
    },
    {
      "cell_type": "code",
      "metadata": {
        "id": "WG-mCDW_PJiF",
        "colab_type": "code",
        "colab": {}
      },
      "source": [
        "import pandas as pd\n",
        "\n",
        "pd_final = pd.DataFrame(final_mi)\n",
        "Z_mi = pd_final.fillna(-15)\n",
        "Z_mi = np.asarray(Z_mi)\n",
        "\n",
        "Z_mi_min = np.min(Z_mi, axis=0)\n",
        "Z_mi_min_idx = np.argmin(Z_mi_min)\n",
        "\n",
        "Z_mi_min_y = np.min(Z_mi, axis=1)\n",
        "Z_mi_min_idx_y = np.argmin(Z_mi_min_y)\n",
        "\n",
        "Z_mi_min_idx_y -= 256\n",
        "Z_mi_min_idx -= 256\n",
        "\n",
        "print('min_idx = ',Z_mi_min_idx_y,',',Z_mi_min_idx)"
      ],
      "execution_count": 0,
      "outputs": []
    },
    {
      "cell_type": "code",
      "metadata": {
        "id": "NvkctHZYPJkO",
        "colab_type": "code",
        "colab": {}
      },
      "source": [
        "from mpl_toolkits.mplot3d import Axes3D\n",
        "x = np.linspace(-256,255,512)\n",
        "y = np.linspace(-256,255,512)\n",
        "Z_np = np.array(Z_mi)\n",
        "xx, yy = np.meshgrid(x,y)\n",
        "\n",
        "plt.figure(figsize=(5,5))\n",
        "ax = plt.subplot(1,1,1,projection='3d')\n",
        "ax.plot_surface(xx,yy,Z_np)\n",
        "ax.view_init(30,30)\n",
        "plt.show()"
      ],
      "execution_count": 0,
      "outputs": []
    },
    {
      "cell_type": "code",
      "metadata": {
        "id": "ZDKWgBeLPcKa",
        "colab_type": "code",
        "colab": {}
      },
      "source": [
        "hist_2d, x_edges, y_edges = np.histogram2d(ori_image.ravel(), translate_image.ravel(), bins=50)\n",
        "plt.imshow(hist_2d.T, origin='lower')"
      ],
      "execution_count": 0,
      "outputs": []
    },
    {
      "cell_type": "code",
      "metadata": {
        "id": "DzpZ73MoPsk_",
        "colab_type": "code",
        "colab": {}
      },
      "source": [
        "M = np.float32([[1,0,-28],[0,1,-60]])\n",
        "dst_image = cv2.warpAffine(translate_image, M, translate_image.shape[:2])\n",
        "\n",
        "hist_2d, x_edges, y_edges = np.histogram2d(dst_image.ravel(), ori_image.ravel(), bins=50)\n",
        "plt.imshow(hist_2d.T, origin='lower')"
      ],
      "execution_count": 0,
      "outputs": []
    },
    {
      "cell_type": "code",
      "metadata": {
        "id": "D_poyY7FQBh3",
        "colab_type": "code",
        "colab": {}
      },
      "source": [
        "plt.subplot(121)\n",
        "plt.imshow(ori_image, cmap='gray')\n",
        "plt.title('ori_image' )\n",
        "\n",
        "plt.subplot(122)\n",
        "plt.imshow(dst_image, cmap='gray')\n",
        "plt.title('dst_image')\n",
        "\n",
        "plt.show()"
      ],
      "execution_count": 0,
      "outputs": []
    },
    {
      "cell_type": "code",
      "metadata": {
        "id": "Lljehek2NMYp",
        "colab_type": "code",
        "colab": {}
      },
      "source": [
        "###3_2\n",
        "w,h = ori_image.shape[:2]\n",
        "rotation_mat = cv2.getRotationMatrix2D((w/2,h/2),30,1)\n",
        "rotation_image = cv2.warpAffine(ori_image, rotation_mat, ori_image.shape[:2])\n",
        "\n",
        "plt.subplot(121)\n",
        "plt.imshow(ori_image, cmap='gray')\n",
        "plt.title('ori_image')\n",
        "\n",
        "plt.subplot(122)\n",
        "plt.imshow(rotation_image, cmap='gray')\n",
        "plt.title('rotation_image')\n",
        "\n",
        "plt.show()"
      ],
      "execution_count": 0,
      "outputs": []
    },
    {
      "cell_type": "code",
      "metadata": {
        "id": "ip1qbZJ8OhfB",
        "colab_type": "code",
        "colab": {}
      },
      "source": [
        "final = optim( rotation_image,ori_image, mode='ssd', distortion='rotation')"
      ],
      "execution_count": 0,
      "outputs": []
    },
    {
      "cell_type": "code",
      "metadata": {
        "id": "hSfNzolKOkoZ",
        "colab_type": "code",
        "colab": {}
      },
      "source": [
        "Z = final\n",
        "Z_min = np.argmin(Z, axis=0)\n",
        "\n",
        "print('min_rotation = ',Z_min)\n",
        "\n",
        "from mpl_toolkits.mplot3d import Axes3D\n",
        "x = np.linspace(0,360,360)\n",
        "Z_np = np.array(Z)\n",
        "\n",
        "plt.figure(figsize=(5,5))\n",
        "plt.plot(x,Z_np)\n",
        "plt.show()"
      ],
      "execution_count": 0,
      "outputs": []
    },
    {
      "cell_type": "code",
      "metadata": {
        "id": "AbUVbRDzVKPS",
        "colab_type": "code",
        "colab": {}
      },
      "source": [
        "rotation_mat = cv2.getRotationMatrix2D((w/2,h/2),330,1)\n",
        "dst_image = cv2.warpAffine(rotation_image, rotation_mat, (w,h))\n",
        "\n",
        "plt.subplot(131)\n",
        "plt.imshow(ori_image, cmap='gray')\n",
        "plt.title('ori_image')\n",
        "\n",
        "\n",
        "plt.subplot(132)\n",
        "plt.imshow(rotation_image, cmap='gray')\n",
        "plt.title('rotation_image')\n",
        "\n",
        "\n",
        "plt.subplot(133)\n",
        "plt.imshow(dst_image, cmap='gray')\n",
        "plt.title('dst_image')\n",
        "\n",
        "plt.show()"
      ],
      "execution_count": 0,
      "outputs": []
    },
    {
      "cell_type": "code",
      "metadata": {
        "id": "tnB7WhGoW6_q",
        "colab_type": "code",
        "colab": {}
      },
      "source": [
        "fig, axes = plt.subplots(1,2)\n",
        "axes[0].hist(ori_image.ravel(), bins=30)\n",
        "axes[1].hist(rotation_image.ravel(), bins=30)"
      ],
      "execution_count": 0,
      "outputs": []
    },
    {
      "cell_type": "code",
      "metadata": {
        "id": "gnWRQzz_Ys6s",
        "colab_type": "code",
        "colab": {}
      },
      "source": [
        "final_mi = optim(rotation_image, ori_image, mode='mi', distortion='rotation')"
      ],
      "execution_count": 0,
      "outputs": []
    },
    {
      "cell_type": "code",
      "metadata": {
        "id": "EWtUTgS2Y5KQ",
        "colab_type": "code",
        "colab": {}
      },
      "source": [
        "import pandas as pd\n",
        "\n",
        "pd_final = pd.DataFrame(final_mi)\n",
        "Z_mi = pd_final.fillna(15)\n",
        "Z_mi = np.asarray(Z_mi)\n",
        "\n",
        "#Z_mi_min = np.min(Z_mi, axis=0)\n",
        "Z_mi_min_idx = np.argmin(Z_mi)\n",
        "\n",
        "\n",
        "print('min_idx = ',Z_mi_min_idx)"
      ],
      "execution_count": 0,
      "outputs": []
    },
    {
      "cell_type": "code",
      "metadata": {
        "id": "l5xBkIdcZHCO",
        "colab_type": "code",
        "colab": {}
      },
      "source": [
        "Z = final_mi\n",
        "Z_min = np.argmin(Z, axis=0)\n",
        "\n",
        "print('min_rotation = ',Z_min)\n",
        "\n",
        "x = np.linspace(0,360,360)\n",
        "Z_np = np.array(Z)\n",
        "\n",
        "plt.figure(figsize=(5,5))\n",
        "plt.plot(x,Z_np)\n",
        "plt.show()"
      ],
      "execution_count": 0,
      "outputs": []
    },
    {
      "cell_type": "code",
      "metadata": {
        "id": "aUGYCq6val3R",
        "colab_type": "code",
        "colab": {}
      },
      "source": [
        "hist_2d, x_edges, y_edges = np.histogram2d(ori_image.ravel(), rotation_image.ravel(), bins=50)\n",
        "plt.imshow(hist_2d.T, origin='lower')"
      ],
      "execution_count": 0,
      "outputs": []
    },
    {
      "cell_type": "code",
      "metadata": {
        "id": "tRU4ohAKarnf",
        "colab_type": "code",
        "colab": {}
      },
      "source": [
        "rotation_mat = cv2.getRotationMatrix2D((w/2,h/2),330,1)\n",
        "dst_image = cv2.warpAffine(rotation_image, rotation_mat, (w,h))\n",
        "\n",
        "hist_2d, x_edges, y_edges = np.histogram2d(dst_image.ravel(), ori_image.ravel(), bins=50)\n",
        "plt.imshow(hist_2d.T, origin='lower')"
      ],
      "execution_count": 0,
      "outputs": []
    },
    {
      "cell_type": "code",
      "metadata": {
        "id": "1Kl7-Kica0UF",
        "colab_type": "code",
        "colab": {}
      },
      "source": [
        "plt.subplot(131)\n",
        "plt.imshow(ori_image, cmap='gray')\n",
        "plt.title('ori_image')\n",
        "\n",
        "\n",
        "plt.subplot(132)\n",
        "plt.imshow(rotation_image, cmap='gray')\n",
        "plt.title('rotation_image')\n",
        "\n",
        "\n",
        "plt.subplot(133)\n",
        "plt.imshow(dst_image, cmap='gray')\n",
        "plt.title('dst_image')\n",
        "\n",
        "plt.show()"
      ],
      "execution_count": 0,
      "outputs": []
    },
    {
      "cell_type": "code",
      "metadata": {
        "id": "8VdqKr9NbNQn",
        "colab_type": "code",
        "colab": {}
      },
      "source": [
        ""
      ],
      "execution_count": 0,
      "outputs": []
    }
  ]
}