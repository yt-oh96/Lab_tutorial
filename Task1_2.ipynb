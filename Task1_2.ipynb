{
  "nbformat": 4,
  "nbformat_minor": 0,
  "metadata": {
    "colab": {
      "name": "Task1_2.ipynb",
      "provenance": [],
      "private_outputs": true,
      "authorship_tag": "ABX9TyM+yTzh+AMsaS5d9F1lZL/b",
      "include_colab_link": true
    },
    "kernelspec": {
      "name": "python3",
      "display_name": "Python 3"
    }
  },
  "cells": [
    {
      "cell_type": "markdown",
      "metadata": {
        "id": "view-in-github",
        "colab_type": "text"
      },
      "source": [
        "<a href=\"https://colab.research.google.com/github/yt-oh96/Lab_tutorial/blob/master/Task1_2.ipynb\" target=\"_parent\"><img src=\"https://colab.research.google.com/assets/colab-badge.svg\" alt=\"Open In Colab\"/></a>"
      ]
    },
    {
      "cell_type": "code",
      "metadata": {
        "id": "yzDzNzjddvHt",
        "colab_type": "code",
        "colab": {}
      },
      "source": [
        "import os\n",
        "import cv2\n",
        "import numpy as np\n",
        "#from PIL import Image\n",
        "import matplotlib.pyplot as plt"
      ],
      "execution_count": 0,
      "outputs": []
    },
    {
      "cell_type": "code",
      "metadata": {
        "id": "gDGCBhS0dwzV",
        "colab_type": "code",
        "colab": {}
      },
      "source": [
        "from google.colab import files\n",
        "uploaded = files.upload()"
      ],
      "execution_count": 0,
      "outputs": []
    },
    {
      "cell_type": "code",
      "metadata": {
        "id": "DGxL1E26dxx7",
        "colab_type": "code",
        "colab": {}
      },
      "source": [
        "ori_image = cv2.imread('image1.tif',1)\n",
        "dis_image = cv2.imread('image2.tif',1)\n",
        "\n",
        "plt.imshow(np.hstack((ori_image, dis_image)))"
      ],
      "execution_count": 0,
      "outputs": []
    },
    {
      "cell_type": "code",
      "metadata": {
        "id": "OAPDI_g_d_Y-",
        "colab_type": "code",
        "colab": {}
      },
      "source": [
        "fig, axes = plt.subplots(1,2)\n",
        "axes[0].hist(ori_image.ravel(), bins=30)\n",
        "axes[1].hist(dis_image.ravel(), bins=30)"
      ],
      "execution_count": 0,
      "outputs": []
    },
    {
      "cell_type": "code",
      "metadata": {
        "id": "PnVfLbxbeUs2",
        "colab_type": "code",
        "colab": {}
      },
      "source": [
        "def optim(ori, dis, mode='', distortion=''):\n",
        "  x,y = ori.shape[:2]\n",
        "  \n",
        "  error = []\n",
        "  if distortion == 'translation':\n",
        "    i=0\n",
        "    for dx in range(-x,x):\n",
        "      i+=1\n",
        "      error_y=[]\n",
        "      j=0\n",
        "      for dy in range(-y,y):\n",
        "        \n",
        "        j+=1\n",
        "        M = np.float32([[1,0,dx],[0,1,dy]])\n",
        "        dst = cv2.warpAffine(ori, M, (x,y))\n",
        "\n",
        "        if mode == 'ssd':\n",
        "          err = SSD(dst, dis)\n",
        "        elif mode == 'mi':\n",
        "          err = -MI(dst,dis)\n",
        "        \n",
        "        error_y.append(err)\n",
        "        \n",
        "        print(str(i)+','+str(j)+'/512'+', error : ',err)\n",
        "      error.append(error_y)\n",
        "\n",
        "  elif distortion == 'rotation':\n",
        "    w,h = ori.shape[:2]\n",
        "    for i in range(360):\n",
        "      \n",
        "      rotation_mat = cv2.getRotationMatrix2D((w/2,h/2),i,1)\n",
        "      rotation_image = cv2.warpAffine(ori, rotation_mat, (w,h))\n",
        "       \n",
        "      if mode == 'ssd':\n",
        "        err = SSD(rotation_image, dis)\n",
        "      elif mode == 'mi':\n",
        "        err = -MI(rotation_image,dis)\n",
        "\n",
        "      print(str(i)+','+'/360'+', error : ',err)\n",
        "      error.append(err)  \n",
        "  return error\n"
      ],
      "execution_count": 0,
      "outputs": []
    },
    {
      "cell_type": "code",
      "metadata": {
        "id": "H-TCRKYsIcvI",
        "colab_type": "code",
        "colab": {}
      },
      "source": [
        "def entropy(image):\n",
        "  image = np.asarray(image)\n",
        "\n",
        "  p_image = image / image.sum()\n",
        "\n",
        "  p_image = p_image[np.nonzero(p_image)]\n",
        "  return -np.sum(p_image*np.log2(p_image))\n",
        "\n",
        "def MI(image_A, image_B):\n",
        "  image_A = np.asarray(image_A.ravel())\n",
        "  image_B = np.asarray(image_B.ravel())\n",
        "  print(image_A.shape)\n",
        "\n",
        "  histogram_A = np.histogram(image_A, 30)[0]\n",
        "  histogram_B = np.histogram(image_B, 30)[0]\n",
        "  histogram_AB = np.histogram2d(image_A, image_B, 30)[0]\n",
        "\n",
        "  H_a = entropy(image_A)\n",
        "  H_b = entropy(image_B)\n",
        "  H_ab = entropy(histogram_AB)\n",
        "  #H_ab = entropy(np.concatenate([image_A, image_B]))\n",
        "  print(H_a, ' ',H_b,' ', H_ab)\n",
        "  MI_ab = H_a + H_b - H_ab\n",
        "\n",
        "  return MI_ab\n",
        "\n",
        "mi = MI(ori_image, dis_image)\n",
        "print(mi)"
      ],
      "execution_count": 0,
      "outputs": []
    },
    {
      "cell_type": "code",
      "metadata": {
        "id": "jeS_OKVWIiGM",
        "colab_type": "code",
        "colab": {}
      },
      "source": [
        "final_mi = optim(ori_image, dis_image, mode='mi')"
      ],
      "execution_count": 0,
      "outputs": []
    },
    {
      "cell_type": "code",
      "metadata": {
        "id": "7MR-GWNQIk3Y",
        "colab_type": "code",
        "colab": {}
      },
      "source": [
        "import pandas as pd\n",
        "\n",
        "pd_final = pd.DataFrame(final_mi)\n",
        "Z_mi = pd_final.fillna(-15)\n",
        "Z_mi = np.asarray(Z_mi)\n",
        "\n",
        "Z_mi_min = np.min(Z_mi, axis=0)\n",
        "Z_mi_min_idx = np.argmin(Z_mi_min)\n",
        "\n",
        "Z_mi_min_y = np.min(Z_mi, axis=1)\n",
        "Z_mi_min_idx_y = np.argmin(Z_mi_min_y)\n",
        "\n",
        "Z_mi_min_idx_y -= 256\n",
        "Z_mi_min_idx -= 256\n",
        "\n",
        "print('min_idx = ',Z_mi_min_idx_y,',',Z_mi_min_idx)"
      ],
      "execution_count": 0,
      "outputs": []
    },
    {
      "cell_type": "code",
      "metadata": {
        "id": "xxV4gOWeIqW0",
        "colab_type": "code",
        "colab": {}
      },
      "source": [
        "from mpl_toolkits.mplot3d import Axes3D\n",
        "x = np.linspace(-256,255,512)\n",
        "y = np.linspace(-256,255,512)\n",
        "Z_np = np.array(Z_mi)\n",
        "xx, yy = np.meshgrid(x,y)\n",
        "\n",
        "plt.figure(figsize=(5,5))\n",
        "ax = plt.subplot(1,1,1,projection='3d')\n",
        "ax.plot_surface(xx,yy,Z_np)\n",
        "ax.view_init(30,30)\n",
        "plt.show()"
      ],
      "execution_count": 0,
      "outputs": []
    },
    {
      "cell_type": "code",
      "metadata": {
        "id": "n0wUKNl6e4xD",
        "colab_type": "code",
        "colab": {}
      },
      "source": [
        "hist_2d, x_edges, y_edges = np.histogram2d(ori_image.ravel(), dis_image.ravel(), bins=50)\n",
        "plt.imshow(hist_2d.T, origin='lower')"
      ],
      "execution_count": 0,
      "outputs": []
    },
    {
      "cell_type": "code",
      "metadata": {
        "id": "Q0gksbX5IyFI",
        "colab_type": "code",
        "colab": {}
      },
      "source": [
        "M = np.float32([[1,0,14],[0,1,9]])\n",
        "dst_image = cv2.warpAffine(ori_image, M, ori_image.shape[:2])\n",
        "\n",
        "hist_2d, x_edges, y_edges = np.histogram2d(dst_image.ravel(), dis_image.ravel(), bins=50)\n",
        "plt.imshow(hist_2d.T, origin='lower')"
      ],
      "execution_count": 0,
      "outputs": []
    },
    {
      "cell_type": "code",
      "metadata": {
        "id": "aymZjGK_d-xt",
        "colab_type": "code",
        "colab": {}
      },
      "source": [
        "plt.subplot(121)\n",
        "plt.imshow(dst_image, cmap='gray')\n",
        "plt.title('ori_image' )\n",
        "\n",
        "plt.subplot(122)\n",
        "plt.imshow(dis_image, cmap='gray')\n",
        "plt.title('dis_image')\n",
        "\n",
        "plt.show()"
      ],
      "execution_count": 0,
      "outputs": []
    },
    {
      "cell_type": "code",
      "metadata": {
        "id": "TFe-aLtRI4Cm",
        "colab_type": "code",
        "colab": {}
      },
      "source": [
        ""
      ],
      "execution_count": 0,
      "outputs": []
    }
  ]
}